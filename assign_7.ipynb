{
 "cells": [
  {
   "cell_type": "code",
   "execution_count": null,
   "id": "151c7a91-69d8-46e0-bda6-74cbd212fa02",
   "metadata": {},
   "outputs": [],
   "source": [
    "Q1. Create a function which will take a list as an argument and return the product of all the numbers\n",
    "after creating a flat list.\n",
    "Use the below-given list as an argument for your function.\n",
    "list1 = [1,2,3,4, [44,55,66, True], False, (34,56,78,89,34), {1,2,3,3,2,1}, {1:34, \"key2\": [55, 67, 78, 89], 4: (45,\n",
    "22, 61, 34)}, [56, 'data science'], 'Machine Learning']\n",
    "Note: you must extract numeric keys and values of the dictionary also."
   ]
  },
  {
   "cell_type": "code",
   "execution_count": 1,
   "id": "b424f82e-3a56-4df5-8614-b892d1e0b032",
   "metadata": {},
   "outputs": [
    {
     "name": "stdout",
     "output_type": "stream",
     "text": [
      "[1, 2, 3, 4, 44, 55, 66, True, False, 34, 56, 78, 89, 34, 1, 2, 3, 1, 34, 'key2', 55, 67, 78, 89, 4, 45, 22, 61, 34, 56, 'data science', 'Machine Learning']\n",
      "4134711838987085478833841242112000\n"
     ]
    }
   ],
   "source": [
    "list1 = [1,2,3,4, [44,55,66, True], False, (34,56,78,89,34), {1,2,3,3,2,1},{1:34, \"key2\": [55, 67, 78, 89], 4: (45,22, 61, 34)}, [56, 'data science'], 'Machine Learning']# phase 1\n",
    "def flatlist(list1):\n",
    "    flist=[]\n",
    "    for i in list1:\n",
    "        if type(i)==list or type(i)==tuple or type(i)==set:\n",
    "            for element in i:\n",
    "                flist.append(element)\n",
    "        elif type(i)==dict:\n",
    "            temp_list=list(i.items())\n",
    "            for i in temp_list: # [(1, 34), ('key2', [55, 67, 78, 89]), (4, (45, 22, 61, 34))\n",
    "                for element in i:\n",
    "                    if type(element)==list or type(element)==tuple:\n",
    "                        for j in element:\n",
    "                            flist.append(j)\n",
    "                    else:\n",
    "                        flist.append(element)\n",
    "        else:\n",
    "            flist.append(i)\n",
    "    return flist\n",
    "list2=flatlist(list1)\n",
    "print(list2)\n",
    "a=1\n",
    "for i in list2:\n",
    "    if type(i)==int:\n",
    "        a=a*i\n",
    "print(a)\n",
    "\n"
   ]
  },
  {
   "cell_type": "code",
   "execution_count": null,
   "id": "e80af29e-f74a-465a-beb6-1a101b4c44ab",
   "metadata": {},
   "outputs": [],
   "source": [
    "Q2. Write a python program for encrypting a message sent to you by your friend. The logic of encryption\n",
    "should be such that, for a the output should be z. For b, the output should be y. For c, the output should\n",
    "be x respectively. Also, the whitespace should be replaced with a dollar sign. Keep the punctuation\n",
    "marks unchanged.\n",
    "Input Sentence: I want to become a Data Scientist.\n",
    "Encrypt the above input sentence using the program you just created.\n",
    "Note: Convert the given input sentence into lowercase before encrypting. The final output should be\n",
    "lowercase.\n",
    "  "
   ]
  },
  {
   "cell_type": "code",
   "execution_count": null,
   "id": "f32eedc2-9d2e-43d8-91d7-3004621066cd",
   "metadata": {},
   "outputs": [],
   "source": [
    "def message(string):\n",
    "    string = string.lower()\n",
    "    trans_letters =str.maketrans('abcdefghijklmnopqrstuvwxyz','zyxwvutsrqponmlkjihgfedcba')\n",
    "    "
   ]
  },
  {
   "cell_type": "code",
   "execution_count": 4,
   "id": "b14ae5e1-c42e-4b73-932d-ec5807258c27",
   "metadata": {},
   "outputs": [
    {
     "data": {
      "text/plain": [
       "'zyxwvutsrqponmlkjihgfedcba'"
      ]
     },
     "execution_count": 4,
     "metadata": {},
     "output_type": "execute_result"
    }
   ],
   "source": [
    "A=\"abcdefghijklmnopqrstuvwxyz\"\n",
    "A[::-1]"
   ]
  },
  {
   "cell_type": "code",
   "execution_count": 3,
   "id": "844c0f6d-2258-419a-9d05-2a6e5adcf33b",
   "metadata": {},
   "outputs": [
    {
     "data": {
      "text/plain": [
       "['abcdefghijklmnopqrstuvwxyz']"
      ]
     },
     "execution_count": 3,
     "metadata": {},
     "output_type": "execute_result"
    }
   ],
   "source": [
    "B"
   ]
  },
  {
   "cell_type": "code",
   "execution_count": null,
   "id": "7f61797f-16dd-47dd-97f9-81c78eed260f",
   "metadata": {},
   "outputs": [],
   "source": []
  }
 ],
 "metadata": {
  "kernelspec": {
   "display_name": "Python 3 (ipykernel)",
   "language": "python",
   "name": "python3"
  },
  "language_info": {
   "codemirror_mode": {
    "name": "ipython",
    "version": 3
   },
   "file_extension": ".py",
   "mimetype": "text/x-python",
   "name": "python",
   "nbconvert_exporter": "python",
   "pygments_lexer": "ipython3",
   "version": "3.10.8"
  }
 },
 "nbformat": 4,
 "nbformat_minor": 5
}
